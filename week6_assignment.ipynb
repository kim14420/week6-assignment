{
  "nbformat": 4,
  "nbformat_minor": 0,
  "metadata": {
    "colab": {
      "provenance": [],
      "collapsed_sections": []
    },
    "kernelspec": {
      "name": "python3",
      "display_name": "Python 3"
    },
    "language_info": {
      "name": "python"
    }
  },
  "cells": [
    {
      "cell_type": "code",
      "execution_count": 23,
      "metadata": {
        "colab": {
          "base_uri": "https://localhost:8080/"
        },
        "id": "6PGHxncQACfp",
        "outputId": "1cc4daf5-1e73-4229-ca2d-a8c788beeefa"
      },
      "outputs": [
        {
          "output_type": "stream",
          "name": "stdout",
          "text": [
            "해바라기 4\n",
            "수선화 3\n",
            "장미 2\n",
            "백합 2\n",
            "튤립 2\n",
            "국화 2\n"
          ]
        }
      ],
      "source": [
        "flowerlist = [\"장미\",\"백합\",\"튤립\",\"국화\",\"수선화\"]\n",
        "\n",
        "flowerlist.append(\"해바라기\")\n",
        "\n",
        "newindex = sorted(flowerlist,key=len,reverse=True)\n",
        "\n",
        "for name in range (len(newindex)):\n",
        "  print (newindex[name],(len(newindex[name])))"
      ]
    },
    {
      "cell_type": "code",
      "source": [
        "movielist = [(\"오징어게임\",50.45), (\"이터널스\",35.46),(\"그레비티\",9.8), (\"노타임투다이\",52.5), (\"스파이더맨\",15.47)]\n",
        "rank = 1\n",
        "newindex = sorted(movielist, key = lambda x:x [1], reverse = True)\n",
        "\n",
        "print (\"영화제목           예매율            순위\")\n",
        "print (\"=========        ======          ====\")\n",
        "\n",
        "for name,rate in newindex:\n",
        "  print (name,\"   \\t\",rate,\"    \\t\",rank)\n",
        "  rank += 1\n",
        " "
      ],
      "metadata": {
        "colab": {
          "base_uri": "https://localhost:8080/"
        },
        "id": "xhVs6cNAFmf6",
        "outputId": "1df2a137-d983-4d4d-a863-8eed00510f04"
      },
      "execution_count": 84,
      "outputs": [
        {
          "output_type": "stream",
          "name": "stdout",
          "text": [
            "영화제목           예매율            순위\n",
            "=========        ======          ====\n",
            "노타임투다이    \t 52.5     \t 1\n",
            "오징어게임    \t 50.45     \t 2\n",
            "이터널스    \t 35.46     \t 3\n",
            "스파이더맨    \t 15.47     \t 4\n",
            "그레비티    \t 9.8     \t 5\n"
          ]
        }
      ]
    }
  ]
}